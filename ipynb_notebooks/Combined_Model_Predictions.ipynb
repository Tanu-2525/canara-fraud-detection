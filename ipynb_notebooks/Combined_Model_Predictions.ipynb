{
 "cells": [
  {
   "cell_type": "code",
   "execution_count": 2,
   "id": "25a97996",
   "metadata": {},
   "outputs": [],
   "source": [
    "import pandas as pd\n",
    "import numpy as np"
   ]
  },
  {
   "cell_type": "markdown",
   "id": "1db36953",
   "metadata": {},
   "source": [
    "##### Importing Unseen Dataset"
   ]
  },
  {
   "cell_type": "code",
   "execution_count": 3,
   "id": "edf1af09",
   "metadata": {},
   "outputs": [],
   "source": [
    "test_df=pd.read_csv('Test_dataset.csv', nrows=50000)"
   ]
  },
  {
   "cell_type": "code",
   "execution_count": 4,
   "id": "8e1da3ec",
   "metadata": {},
   "outputs": [],
   "source": [
    "test_df.drop('Unnamed: 0',axis=1,inplace=True)"
   ]
  },
  {
   "cell_type": "code",
   "execution_count": 5,
   "id": "8247327d",
   "metadata": {},
   "outputs": [
    {
     "name": "stdout",
     "output_type": "stream",
     "text": [
      "<class 'pandas.core.frame.DataFrame'>\n",
      "RangeIndex: 50000 entries, 0 to 49999\n",
      "Data columns (total 27 columns):\n",
      " #   Column                      Non-Null Count  Dtype  \n",
      "---  ------                      --------------  -----  \n",
      " 0   amt                         50000 non-null  float64\n",
      " 1   city_pop                    50000 non-null  int64  \n",
      " 2   trans_month                 50000 non-null  int64  \n",
      " 3   Weekday                     50000 non-null  int64  \n",
      " 4   category_food_dining        50000 non-null  int64  \n",
      " 5   category_gas_transport      50000 non-null  int64  \n",
      " 6   category_grocery_net        50000 non-null  int64  \n",
      " 7   category_grocery_pos        50000 non-null  int64  \n",
      " 8   category_health_fitness     50000 non-null  int64  \n",
      " 9   category_home               50000 non-null  int64  \n",
      " 10  category_kids_pets          50000 non-null  int64  \n",
      " 11  category_misc_net           50000 non-null  int64  \n",
      " 12  category_misc_pos           50000 non-null  int64  \n",
      " 13  category_personal_care      50000 non-null  int64  \n",
      " 14  category_shopping_net       50000 non-null  int64  \n",
      " 15  category_shopping_pos       50000 non-null  int64  \n",
      " 16  category_travel             50000 non-null  int64  \n",
      " 17  Frequency_1DAY_WINDOW       50000 non-null  float64\n",
      " 18  Monetary_1DAY_WINDOW        50000 non-null  float64\n",
      " 19  Monetary_7DAY_WINDOW        50000 non-null  float64\n",
      " 20  merchant_NB_TX_1DAY_WINDOW  50000 non-null  float64\n",
      " 21  merchant_RISK_1DAY_WINDOW   50000 non-null  float64\n",
      " 22  merchant_RISK_7DAY_WINDOW   50000 non-null  float64\n",
      " 23  category_NB_TX_1DAY_WINDOW  50000 non-null  float64\n",
      " 24  category_RISK_1DAY_WINDOW   50000 non-null  float64\n",
      " 25  distance                    50000 non-null  float64\n",
      " 26  is_fraud                    50000 non-null  int64  \n",
      "dtypes: float64(10), int64(17)\n",
      "memory usage: 10.3 MB\n"
     ]
    }
   ],
   "source": [
    "test_df.info()"
   ]
  },
  {
   "cell_type": "markdown",
   "id": "6ca2303f",
   "metadata": {},
   "source": [
    "###### Examining combined approach on 50,000 rows"
   ]
  },
  {
   "cell_type": "code",
   "execution_count": 6,
   "id": "03c25daf",
   "metadata": {},
   "outputs": [],
   "source": [
    "data=test_df.iloc[:50000,:-1]\n",
    "y_test=test_df.iloc[:50000:,-1]"
   ]
  },
  {
   "cell_type": "code",
   "execution_count": 7,
   "id": "49660753",
   "metadata": {},
   "outputs": [],
   "source": [
    "data=np.array(data)"
   ]
  },
  {
   "cell_type": "code",
   "execution_count": 8,
   "id": "cda34c97",
   "metadata": {},
   "outputs": [],
   "source": [
    "from tensorflow import keras"
   ]
  },
  {
   "cell_type": "markdown",
   "id": "68b8a29a",
   "metadata": {},
   "source": [
    "##### Loading saved LSTM model"
   ]
  },
  {
   "cell_type": "code",
   "execution_count": 9,
   "id": "a808f3c0",
   "metadata": {},
   "outputs": [],
   "source": [
    "#Load the model\n",
    "model = keras.models.load_model('LSTM_model.h5')"
   ]
  },
  {
   "cell_type": "code",
   "execution_count": 10,
   "id": "7064c1c1",
   "metadata": {},
   "outputs": [],
   "source": [
    "data_test_reshaped=data.reshape(data.shape[0],1, data.shape[1])"
   ]
  },
  {
   "cell_type": "code",
   "execution_count": 11,
   "id": "53dae967",
   "metadata": {},
   "outputs": [
    {
     "data": {
      "text/plain": [
       "(50000, 1, 26)"
      ]
     },
     "execution_count": 11,
     "metadata": {},
     "output_type": "execute_result"
    }
   ],
   "source": [
    "data_test_reshaped.shape"
   ]
  },
  {
   "cell_type": "code",
   "execution_count": 12,
   "id": "fa0f07c6",
   "metadata": {},
   "outputs": [
    {
     "name": "stdout",
     "output_type": "stream",
     "text": [
      "1563/1563 [==============================] - 10s 5ms/step\n"
     ]
    }
   ],
   "source": [
    "y_pred = model.predict(data_test_reshaped)"
   ]
  },
  {
   "cell_type": "code",
   "execution_count": 13,
   "id": "c69be887",
   "metadata": {},
   "outputs": [],
   "source": [
    "y_pred_binary = (y_pred > 0.5).astype(int)"
   ]
  },
  {
   "cell_type": "code",
   "execution_count": 14,
   "id": "775af107",
   "metadata": {},
   "outputs": [
    {
     "name": "stdout",
     "output_type": "stream",
     "text": [
      "Accuracy: 0.986560\n",
      "Precision: 0.989038\n",
      "Recall: 0.984155\n"
     ]
    }
   ],
   "source": [
    "# demonstration of calculating metrics for a neural network model using sklearn\n",
    "from sklearn.metrics import accuracy_score\n",
    "from sklearn.metrics import precision_score\n",
    "from sklearn.metrics import recall_score\n",
    "from sklearn.metrics import confusion_matrix\n",
    "\n",
    "# accuracy: (tp + tn) / (p + n)\n",
    "accuracy = accuracy_score(y_test, y_pred_binary)\n",
    "print('Accuracy: %f' % accuracy)\n",
    "# precision tp / (tp + fp)\n",
    "precision = precision_score(y_test, y_pred_binary)\n",
    "print('Precision: %f' % precision)\n",
    "# recall: tp / (tp + fn)\n",
    "recall = recall_score(y_test, y_pred_binary)\n",
    "print('Recall: %f' % recall)"
   ]
  },
  {
   "cell_type": "code",
   "execution_count": 15,
   "id": "0c1c5e01",
   "metadata": {},
   "outputs": [
    {
     "data": {
      "image/png": "[encoded data removed]",
      "text/plain": [
       "<Figure size 640x480 with 1 Axes>"
      ]
     },
     "metadata": {},
     "output_type": "display_data"
    }
   ],
   "source": [
    "from sklearn.metrics import precision_recall_curve, auc\n",
    "import matplotlib.pyplot as plt\n",
    "precision, recall, thresholds = precision_recall_curve(y_test, y_pred_binary)\n",
    "auprc = auc(recall, precision)\n",
    "plt.plot(recall, precision, label='LSTM (AUPRC = {:.3f})'.format(auprc))\n",
    "plt.xlabel('Recall')\n",
    "plt.ylabel('Precision')\n",
    "plt.title('Precision-Recall Curve')\n",
    "plt.legend()\n",
    "plt.show()"
   ]
  },
  {
   "cell_type": "markdown",
   "id": "0c556b62",
   "metadata": {},
   "source": [
    "##### Inference\n",
    "* LSTM has performed well on unseen Test dataset with good precision and recall "
   ]
  },
  {
   "cell_type": "markdown",
   "id": "4512f9b9",
   "metadata": {},
   "source": [
    "##### Adaptive Random Forest "
   ]
  },
  {
   "cell_type": "code",
   "execution_count": 17,
   "id": "5ee146a9",
   "metadata": {},
   "outputs": [],
   "source": [
    "import pickle\n",
    "with open (\"ARF_evaluator (1).pkl\",\"rb\" ) as file :\n",
    "    evaluator=pickle.load(file)"
   ]
  },
  {
   "cell_type": "code",
   "execution_count": 19,
   "id": "89b331b4",
   "metadata": {},
   "outputs": [],
   "source": [
    "arf_y_pred=evaluator.predict(data)"
   ]
  },
  {
   "cell_type": "code",
   "execution_count": 20,
   "id": "4d611e12",
   "metadata": {},
   "outputs": [
    {
     "data": {
      "text/plain": [
       "[array([1, 1, 1, ..., 1, 0, 0])]"
      ]
     },
     "execution_count": 20,
     "metadata": {},
     "output_type": "execute_result"
    }
   ],
   "source": [
    "arf_y_pred"
   ]
  },
  {
   "cell_type": "markdown",
   "id": "36b7b08d",
   "metadata": {},
   "source": [
    "##### Combined Predictions"
   ]
  },
  {
   "cell_type": "code",
   "execution_count": 21,
   "id": "d29a72ec",
   "metadata": {},
   "outputs": [
    {
     "data": {
      "text/plain": [
       "(50000, 1)"
      ]
     },
     "execution_count": 21,
     "metadata": {},
     "output_type": "execute_result"
    }
   ],
   "source": [
    "y_pred_binary.shape"
   ]
  },
  {
   "cell_type": "code",
   "execution_count": 22,
   "id": "641cf11a",
   "metadata": {},
   "outputs": [],
   "source": [
    "arf_predictions=np.array(arf_y_pred[0])"
   ]
  },
  {
   "cell_type": "code",
   "execution_count": 23,
   "id": "839ec9df",
   "metadata": {},
   "outputs": [],
   "source": [
    "# Reshape arf_predictions to match the shape of y_pred_binary\n",
    "Arf_predtn = np.reshape(arf_predictions, (-1, 1))"
   ]
  },
  {
   "cell_type": "markdown",
   "id": "492145a2",
   "metadata": {},
   "source": [
    "##### Performing Weighted Voting"
   ]
  },
  {
   "cell_type": "code",
   "execution_count": 31,
   "id": "fc0d049e",
   "metadata": {},
   "outputs": [],
   "source": [
    "lstm_weight = 0.6\n",
    "arf_weight = 0.4\n",
    "# Apply average weighted voting\n",
    "combined_predictions = (lstm_weight * y_pred_binary + arf_weight * Arf_predtn  / (lstm_weight + arf_weight))"
   ]
  },
  {
   "cell_type": "code",
   "execution_count": 32,
   "id": "c40da658",
   "metadata": {},
   "outputs": [
    {
     "data": {
      "text/plain": [
       "array([[1.],\n",
       "       [1.],\n",
       "       [1.],\n",
       "       ...,\n",
       "       [1.],\n",
       "       [0.],\n",
       "       [0.]])"
      ]
     },
     "execution_count": 32,
     "metadata": {},
     "output_type": "execute_result"
    }
   ],
   "source": [
    "combined_predictions"
   ]
  },
  {
   "cell_type": "markdown",
   "id": "6d15e17d",
   "metadata": {},
   "source": [
    "#### Examining Misclassifications"
   ]
  },
  {
   "cell_type": "code",
   "execution_count": 33,
   "id": "9d49ce95",
   "metadata": {},
   "outputs": [],
   "source": [
    "def create_table_diff(target, y_pred):\n",
    "    target = np.reshape(target, -1)\n",
    "    y_pred = np.reshape(y_pred, -1)\n",
    "    return pd.DataFrame({\"actual values\": target,\n",
    "                         \"predicted values\": y_pred,\n",
    "                         \"diff\": np.abs(target - y_pred)})"
   ]
  },
  {
   "cell_type": "code",
   "execution_count": 34,
   "id": "2d81d5f6",
   "metadata": {},
   "outputs": [],
   "source": [
    "df_pred=create_table_diff(y_test,combined_predictions)"
   ]
  },
  {
   "cell_type": "code",
   "execution_count": 35,
   "id": "5085eed3",
   "metadata": {},
   "outputs": [
    {
     "data": {
      "text/html": [
       "<div>\n",
       "<style scoped>\n",
       "    .dataframe tbody tr th:only-of-type {\n",
       "        vertical-align: middle;\n",
       "    }\n",
       "\n",
       "    .dataframe tbody tr th {\n",
       "        vertical-align: top;\n",
       "    }\n",
       "\n",
       "    .dataframe thead th {\n",
       "        text-align: right;\n",
       "    }\n",
       "</style>\n",
       "<table border=\"1\" class=\"dataframe\">\n",
       "  <thead>\n",
       "    <tr style=\"text-align: right;\">\n",
       "      <th></th>\n",
       "      <th>actual values</th>\n",
       "      <th>predicted values</th>\n",
       "      <th>diff</th>\n",
       "    </tr>\n",
       "  </thead>\n",
       "  <tbody>\n",
       "    <tr>\n",
       "      <th>224</th>\n",
       "      <td>1</td>\n",
       "      <td>0.0</td>\n",
       "      <td>1.0</td>\n",
       "    </tr>\n",
       "    <tr>\n",
       "      <th>379</th>\n",
       "      <td>1</td>\n",
       "      <td>0.0</td>\n",
       "      <td>1.0</td>\n",
       "    </tr>\n",
       "    <tr>\n",
       "      <th>515</th>\n",
       "      <td>1</td>\n",
       "      <td>0.0</td>\n",
       "      <td>1.0</td>\n",
       "    </tr>\n",
       "    <tr>\n",
       "      <th>800</th>\n",
       "      <td>1</td>\n",
       "      <td>0.0</td>\n",
       "      <td>1.0</td>\n",
       "    </tr>\n",
       "    <tr>\n",
       "      <th>930</th>\n",
       "      <td>1</td>\n",
       "      <td>0.0</td>\n",
       "      <td>1.0</td>\n",
       "    </tr>\n",
       "    <tr>\n",
       "      <th>...</th>\n",
       "      <td>...</td>\n",
       "      <td>...</td>\n",
       "      <td>...</td>\n",
       "    </tr>\n",
       "    <tr>\n",
       "      <th>49646</th>\n",
       "      <td>1</td>\n",
       "      <td>0.0</td>\n",
       "      <td>1.0</td>\n",
       "    </tr>\n",
       "    <tr>\n",
       "      <th>49877</th>\n",
       "      <td>1</td>\n",
       "      <td>0.0</td>\n",
       "      <td>1.0</td>\n",
       "    </tr>\n",
       "    <tr>\n",
       "      <th>49927</th>\n",
       "      <td>1</td>\n",
       "      <td>0.0</td>\n",
       "      <td>1.0</td>\n",
       "    </tr>\n",
       "    <tr>\n",
       "      <th>49928</th>\n",
       "      <td>1</td>\n",
       "      <td>0.0</td>\n",
       "      <td>1.0</td>\n",
       "    </tr>\n",
       "    <tr>\n",
       "      <th>49948</th>\n",
       "      <td>1</td>\n",
       "      <td>0.0</td>\n",
       "      <td>1.0</td>\n",
       "    </tr>\n",
       "  </tbody>\n",
       "</table>\n",
       "<p>397 rows × 3 columns</p>\n",
       "</div>"
      ],
      "text/plain": [
       "       actual values  predicted values  diff\n",
       "224                1               0.0   1.0\n",
       "379                1               0.0   1.0\n",
       "515                1               0.0   1.0\n",
       "800                1               0.0   1.0\n",
       "930                1               0.0   1.0\n",
       "...              ...               ...   ...\n",
       "49646              1               0.0   1.0\n",
       "49877              1               0.0   1.0\n",
       "49927              1               0.0   1.0\n",
       "49928              1               0.0   1.0\n",
       "49948              1               0.0   1.0\n",
       "\n",
       "[397 rows x 3 columns]"
      ]
     },
     "execution_count": 35,
     "metadata": {},
     "output_type": "execute_result"
    }
   ],
   "source": [
    "df_pred[df_pred['diff'] == 1]"
   ]
  },
  {
   "cell_type": "markdown",
   "id": "c2876433",
   "metadata": {},
   "source": [
    "##### Out of 50,000 rows, combined model is giving 397 misclassifications i.e approximately 0.7%"
   ]
  },
  {
   "cell_type": "code",
   "execution_count": 36,
   "id": "0bfc7e94",
   "metadata": {},
   "outputs": [
    {
     "data": {
      "image/png": "[encoded data removed]",
      "text/plain": [
       "<Figure size 640x480 with 1 Axes>"
      ]
     },
     "metadata": {},
     "output_type": "display_data"
    }
   ],
   "source": [
    "from sklearn.metrics import precision_recall_curve, auc\n",
    "import matplotlib.pyplot as plt\n",
    "precision, recall, thresholds = precision_recall_curve(y_test, combined_predictions.astype(int))\n",
    "auprc = auc(recall, precision)\n",
    "plt.plot(recall, precision, label='LSTM + ARF (AUPRC = {:.3f})'.format(auprc))\n",
    "plt.xlabel('Recall')\n",
    "plt.ylabel('Precision')\n",
    "plt.title('Precision-Recall Curve')\n",
    "plt.legend()\n",
    "plt.show()"
   ]
  },
  {
   "cell_type": "code",
   "execution_count": null,
   "id": "d7f8c4b8",
   "metadata": {},
   "outputs": [],
   "source": []
  },
  {
   "cell_type": "code",
   "execution_count": null,
   "id": "43512513",
   "metadata": {},
   "outputs": [],
   "source": []
  }
 ],
 "metadata": {
  "kernelspec": {
   "display_name": "Python 3 (ipykernel)",
   "language": "python",
   "name": "python3"
  },
  "language_info": {
   "codemirror_mode": {
    "name": "ipython",
    "version": 3
   },
   "file_extension": ".py",
   "mimetype": "text/x-python",
   "name": "python",
   "nbconvert_exporter": "python",
   "pygments_lexer": "ipython3",
   "version": "3.10.0"
  }
 },
 "nbformat": 4,
 "nbformat_minor": 5
}
